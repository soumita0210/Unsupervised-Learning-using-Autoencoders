{
 "cells": [
  {
   "cell_type": "code",
   "execution_count": 4,
   "metadata": {},
   "outputs": [],
   "source": [
    "import keras\n",
    "from matplotlib import pyplot as plt\n",
    "import numpy as np\n",
    "import gzip\n",
    "from keras.models import Model\n",
    "from keras.optimizers import RMSprop\n",
    "from keras.layers import Input,Dense,Flatten,Dropout,merge,Reshape,Conv2D,MaxPooling2D,UpSampling2D,Conv2DTranspose\n",
    "from keras.layers.normalization import BatchNormalization\n",
    "from keras.models import Model,Sequential\n",
    "from keras.callbacks import ModelCheckpoint\n",
    "from keras.optimizers import Adadelta, RMSprop,SGD,Adam\n",
    "from keras import regularizers\n",
    "from keras import backend as K\n",
    "from keras.utils import to_categorical"
   ]
  },
  {
   "cell_type": "code",
   "execution_count": 5,
   "metadata": {},
   "outputs": [],
   "source": [
    "def load_mnist(path, kind):\n",
    "    import os\n",
    "    import gzip\n",
    "    import numpy as np\n",
    "\n",
    "    \"\"\"Load MNIST data from `path`\"\"\"\n",
    "    labels_path = os.path.join(path,\n",
    "                               '%s-labels-idx1-ubyte.gz'\n",
    "                               % kind)\n",
    "    images_path = os.path.join(path,\n",
    "                               '%s-images-idx3-ubyte.gz'\n",
    "                               % kind)\n",
    "\n",
    "    with gzip.open(labels_path, 'rb') as lbpath:\n",
    "        labels = np.frombuffer(lbpath.read(), dtype=np.uint8,\n",
    "                               offset=8)\n",
    "\n",
    "    with gzip.open(images_path, 'rb') as imgpath:\n",
    "        images = np.frombuffer(imgpath.read(), dtype=np.uint8,\n",
    "                               offset=16).reshape(len(labels), 784)\n",
    "\n",
    "    return images, labels"
   ]
  },
  {
   "cell_type": "code",
   "execution_count": 6,
   "metadata": {},
   "outputs": [],
   "source": [
    "import matplotlib.pyplot as plt\n",
    "\n",
    "def graph_plot_loss(history):\n",
    "    \n",
    "    plt.plot(history.history['loss'])\n",
    "    plt.plot(history.history['val_loss'])\n",
    "    plt.title('Model loss')\n",
    "    plt.ylabel('Loss')\n",
    "    plt.xlabel('Epoch')\n",
    "    plt.legend(['Train', 'Validation'], loc='upper right')\n",
    "    plt.show()"
   ]
  },
  {
   "cell_type": "code",
   "execution_count": 14,
   "metadata": {
    "scrolled": true
   },
   "outputs": [],
   "source": [
    "import numpy as np\n",
    "from sklearn.metrics import normalized_mutual_info_score, adjusted_mutual_info_score\n",
    "\n",
    "nmi = normalized_mutual_info_score\n",
    "ami = adjusted_mutual_info_score\n",
    "\n",
    "\n",
    "def acc(y_true, y_pred):\n",
    "    \"\"\"\n",
    "    Calculate clustering accuracy. Require scikit-learn installed\n",
    "    # Arguments\n",
    "        y: true labels, numpy.array with shape `(n_samples,)`\n",
    "        y_pred: predicted labels, numpy.array with shape `(n_samples,)`\n",
    "\n",
    "    \"\"\"\n",
    "    y_true = y_true.astype(np.int64)\n",
    "    assert y_pred.size == y_true.size\n",
    "    D = max(y_pred.max(), y_true.max()) + 1\n",
    "    w = np.zeros((D, D), dtype=np.int64)\n",
    "    for i in range(y_pred.size):\n",
    "        w[y_pred[i], y_true[i]] += 1\n",
    "    from sklearn.utils.linear_assignment_ import linear_assignment\n",
    "    ind = linear_assignment(- w)\n",
    "    acc= sum([w[i, j] for i, j in ind]) * 1.0 / y_pred.size\n",
    "    \n",
    "    print('\\n')\n",
    "    print(\"Accuracy using linear assignment : \",acc)\n",
    "    print('\\n')\n",
    "    print(\"Normalized Mutual Info Score : \",nmi(y_true,y_pred))\n",
    "    print('\\n')\n",
    "    print(\"Adjusted Mutual Info Score : \",ami(y_true,y_pred))\n",
    "    \n"
   ]
  },
  {
   "cell_type": "code",
   "execution_count": 9,
   "metadata": {},
   "outputs": [],
   "source": [
    "#Load the data\n",
    "\n",
    "X_train, y_train = load_mnist('data/fashion', kind='train')\n",
    "\n",
    "X_test, y_test = load_mnist('data/fashion', kind='t10k')"
   ]
  },
  {
   "cell_type": "code",
   "execution_count": 10,
   "metadata": {},
   "outputs": [],
   "source": [
    "#Kmeans without Autoencoder\n",
    "\n",
    "from sklearn.cluster import KMeans\n",
    "\n",
    "kmeans = KMeans(n_clusters=10, random_state=0)\n",
    "\n",
    "model=kmeans.fit(X_train)\n",
    "\n",
    "predicted_labels=model.predict(X_test)"
   ]
  },
  {
   "cell_type": "code",
   "execution_count": 15,
   "metadata": {},
   "outputs": [
    {
     "name": "stdout",
     "output_type": "stream",
     "text": [
      "Results of Kmeans without Autoencoder\n",
      "\n",
      "\n",
      "Confusion Matrix: \n",
      "\n",
      "[[ 29   6 587   0  93   1  34 245   5   0]\n",
      " [890   0  50   0  22   0   9  29   0   0]\n",
      " [  4   4  19   0  61   0 566 342   4   0]\n",
      " [503   2 277   0  92   0  10 113   3   0]\n",
      " [ 27   4 136   0  42   0 627 159   5   0]\n",
      " [  0   0   0  72 650 227   0   6   0  45]\n",
      " [ 12  15 189   0 115   0 311 358   0   0]\n",
      " [  0   0   0 151  62 785   0   0   0   2]\n",
      " [  6 351   3   9  84  40  62  36 408   1]\n",
      " [  0   0   0 519  29  23   0   4   2 423]]\n",
      "\n",
      "\n",
      "Accuracy using linear assignment :  0.4828\n",
      "\n",
      "\n",
      "Normalized Mutual Info Score :  0.5127573568302513\n",
      "\n",
      "\n",
      "Adjusted Mutual Info Score :  0.500295735526428\n"
     ]
    }
   ],
   "source": [
    "from sklearn.metrics import confusion_matrix\n",
    "\n",
    "print ('Results of Kmeans without Autoencoder\\n\\n')\n",
    "\n",
    "print('Confusion Matrix: \\n')\n",
    "\n",
    "print(confusion_matrix(y_test,predicted_labels))\n",
    "\n",
    "acc(y_test,predicted_labels)"
   ]
  },
  {
   "cell_type": "code",
   "execution_count": 48,
   "metadata": {},
   "outputs": [],
   "source": [
    "#Load and preprocess the data\n",
    "\n",
    "X_train, y_train = load_mnist('data/fashion', kind='train')\n",
    "\n",
    "X_test, y_test = load_mnist('data/fashion', kind='t10k')\n",
    "\n",
    "max_value = float(X_train.max())\n",
    "X_train = X_train.astype('float32') / max_value\n",
    "X_test = X_test.astype('float32') / max_value"
   ]
  },
  {
   "cell_type": "code",
   "execution_count": 49,
   "metadata": {},
   "outputs": [
    {
     "name": "stdout",
     "output_type": "stream",
     "text": [
      "Compression factor: 24.5\n",
      "Model: \"sequential_4\"\n",
      "_________________________________________________________________\n",
      "Layer (type)                 Output Shape              Param #   \n",
      "=================================================================\n",
      "dense_9 (Dense)              (None, 32)                25120     \n",
      "_________________________________________________________________\n",
      "dense_10 (Dense)             (None, 784)               25872     \n",
      "=================================================================\n",
      "Total params: 50,992\n",
      "Trainable params: 50,992\n",
      "Non-trainable params: 0\n",
      "_________________________________________________________________\n"
     ]
    }
   ],
   "source": [
    "#Autoencoder Simple version\n",
    "\n",
    "# input dimension = 784\n",
    "input_dim = X_train.shape[1]\n",
    "encoding_dim = 32\n",
    "\n",
    "compression_factor = float(input_dim) / encoding_dim\n",
    "print(\"Compression factor: %s\" % compression_factor)\n",
    "\n",
    "autoencoder = Sequential()\n",
    "autoencoder.add(\n",
    "    Dense(encoding_dim, input_shape=(input_dim,), activation='relu')\n",
    ")\n",
    "autoencoder.add(\n",
    "    Dense(input_dim, activation='sigmoid')\n",
    ")\n",
    "\n",
    "autoencoder.summary()\n",
    "\n"
   ]
  },
  {
   "cell_type": "code",
   "execution_count": 50,
   "metadata": {},
   "outputs": [
    {
     "name": "stdout",
     "output_type": "stream",
     "text": [
      "Model: \"model_4\"\n",
      "_________________________________________________________________\n",
      "Layer (type)                 Output Shape              Param #   \n",
      "=================================================================\n",
      "input_3 (InputLayer)         (None, 784)               0         \n",
      "_________________________________________________________________\n",
      "dense_9 (Dense)              (None, 32)                25120     \n",
      "=================================================================\n",
      "Total params: 25,120\n",
      "Trainable params: 25,120\n",
      "Non-trainable params: 0\n",
      "_________________________________________________________________\n"
     ]
    }
   ],
   "source": [
    "#create an encoder model to implement dimension reduction\n",
    "input_img = Input(shape=(input_dim,))\n",
    "encoder_layer = autoencoder.layers[0]\n",
    "encoder = Model(input_img, encoder_layer(input_img))\n",
    "\n",
    "encoder.summary()\n"
   ]
  },
  {
   "cell_type": "code",
   "execution_count": 51,
   "metadata": {},
   "outputs": [
    {
     "name": "stdout",
     "output_type": "stream",
     "text": [
      "Train on 60000 samples, validate on 10000 samples\n",
      "Epoch 1/50\n",
      "60000/60000 [==============================] - 2s 37us/step - loss: 0.4140 - val_loss: 0.3427\n",
      "Epoch 2/50\n",
      "60000/60000 [==============================] - 2s 33us/step - loss: 0.3279 - val_loss: 0.3202\n",
      "Epoch 3/50\n",
      "60000/60000 [==============================] - 2s 34us/step - loss: 0.3120 - val_loss: 0.3087\n",
      "Epoch 4/50\n",
      "60000/60000 [==============================] - 2s 33us/step - loss: 0.3023 - val_loss: 0.3007\n",
      "Epoch 5/50\n",
      "60000/60000 [==============================] - 2s 37us/step - loss: 0.2957 - val_loss: 0.2954\n",
      "Epoch 6/50\n",
      "60000/60000 [==============================] - 2s 41us/step - loss: 0.2916 - val_loss: 0.2924\n",
      "Epoch 7/50\n",
      "60000/60000 [==============================] - 2s 32us/step - loss: 0.2892 - val_loss: 0.2905\n",
      "Epoch 8/50\n",
      "60000/60000 [==============================] - 2s 34us/step - loss: 0.2876 - val_loss: 0.2892\n",
      "Epoch 9/50\n",
      "60000/60000 [==============================] - 2s 33us/step - loss: 0.2865 - val_loss: 0.2882\n",
      "Epoch 10/50\n",
      "60000/60000 [==============================] - 2s 33us/step - loss: 0.2856 - val_loss: 0.2877\n",
      "Epoch 11/50\n",
      "60000/60000 [==============================] - 2s 33us/step - loss: 0.2851 - val_loss: 0.2871\n",
      "Epoch 12/50\n",
      "60000/60000 [==============================] - 2s 32us/step - loss: 0.2846 - val_loss: 0.2866\n",
      "Epoch 13/50\n",
      "60000/60000 [==============================] - 2s 33us/step - loss: 0.2843 - val_loss: 0.2864\n",
      "Epoch 14/50\n",
      "60000/60000 [==============================] - 2s 33us/step - loss: 0.2840 - val_loss: 0.2861\n",
      "Epoch 15/50\n",
      "60000/60000 [==============================] - 2s 33us/step - loss: 0.2837 - val_loss: 0.2860\n",
      "Epoch 16/50\n",
      "60000/60000 [==============================] - 2s 32us/step - loss: 0.2835 - val_loss: 0.2857\n",
      "Epoch 17/50\n",
      "60000/60000 [==============================] - 2s 32us/step - loss: 0.2834 - val_loss: 0.2856\n",
      "Epoch 18/50\n",
      "60000/60000 [==============================] - 2s 33us/step - loss: 0.2832 - val_loss: 0.2859\n",
      "Epoch 19/50\n",
      "60000/60000 [==============================] - 2s 34us/step - loss: 0.2831 - val_loss: 0.2853\n",
      "Epoch 20/50\n",
      "60000/60000 [==============================] - 2s 34us/step - loss: 0.2830 - val_loss: 0.2852\n",
      "Epoch 21/50\n",
      "60000/60000 [==============================] - 2s 33us/step - loss: 0.2829 - val_loss: 0.2851\n",
      "Epoch 22/50\n",
      "60000/60000 [==============================] - 2s 34us/step - loss: 0.2827 - val_loss: 0.2851\n",
      "Epoch 23/50\n",
      "60000/60000 [==============================] - 2s 34us/step - loss: 0.2826 - val_loss: 0.2849\n",
      "Epoch 24/50\n",
      "60000/60000 [==============================] - 2s 33us/step - loss: 0.2825 - val_loss: 0.2849\n",
      "Epoch 25/50\n",
      "60000/60000 [==============================] - 2s 33us/step - loss: 0.2825 - val_loss: 0.2848\n",
      "Epoch 26/50\n",
      "60000/60000 [==============================] - 2s 33us/step - loss: 0.2824 - val_loss: 0.2847\n",
      "Epoch 27/50\n",
      "60000/60000 [==============================] - 2s 33us/step - loss: 0.2823 - val_loss: 0.2847\n",
      "Epoch 28/50\n",
      "60000/60000 [==============================] - 2s 35us/step - loss: 0.2822 - val_loss: 0.2846\n",
      "Epoch 29/50\n",
      "60000/60000 [==============================] - 2s 34us/step - loss: 0.2822 - val_loss: 0.2846\n",
      "Epoch 30/50\n",
      "60000/60000 [==============================] - 2s 35us/step - loss: 0.2821 - val_loss: 0.2844\n",
      "Epoch 31/50\n",
      "60000/60000 [==============================] - 2s 34us/step - loss: 0.2821 - val_loss: 0.2844\n",
      "Epoch 32/50\n",
      "60000/60000 [==============================] - 2s 33us/step - loss: 0.2820 - val_loss: 0.2843\n",
      "Epoch 33/50\n",
      "60000/60000 [==============================] - 2s 34us/step - loss: 0.2820 - val_loss: 0.2843\n",
      "Epoch 34/50\n",
      "60000/60000 [==============================] - 2s 36us/step - loss: 0.2819 - val_loss: 0.2843\n",
      "Epoch 35/50\n",
      "60000/60000 [==============================] - 2s 40us/step - loss: 0.2819 - val_loss: 0.2843\n",
      "Epoch 36/50\n",
      "60000/60000 [==============================] - 2s 37us/step - loss: 0.2818 - val_loss: 0.2842\n",
      "Epoch 37/50\n",
      "60000/60000 [==============================] - 2s 33us/step - loss: 0.2818 - val_loss: 0.2842\n",
      "Epoch 38/50\n",
      "60000/60000 [==============================] - 2s 34us/step - loss: 0.2818 - val_loss: 0.2841\n",
      "Epoch 39/50\n",
      "60000/60000 [==============================] - 2s 33us/step - loss: 0.2817 - val_loss: 0.2842\n",
      "Epoch 40/50\n",
      "60000/60000 [==============================] - 2s 33us/step - loss: 0.2817 - val_loss: 0.2841\n",
      "Epoch 41/50\n",
      "60000/60000 [==============================] - 2s 34us/step - loss: 0.2817 - val_loss: 0.2841\n",
      "Epoch 42/50\n",
      "60000/60000 [==============================] - 2s 40us/step - loss: 0.2816 - val_loss: 0.2840\n",
      "Epoch 43/50\n",
      "60000/60000 [==============================] - 2s 37us/step - loss: 0.2816 - val_loss: 0.2840\n",
      "Epoch 44/50\n",
      "60000/60000 [==============================] - 3s 46us/step - loss: 0.2816 - val_loss: 0.2840\n",
      "Epoch 45/50\n",
      "60000/60000 [==============================] - 2s 37us/step - loss: 0.2816 - val_loss: 0.2841\n",
      "Epoch 46/50\n",
      "60000/60000 [==============================] - 2s 36us/step - loss: 0.2815 - val_loss: 0.2840\n",
      "Epoch 47/50\n",
      "60000/60000 [==============================] - 3s 44us/step - loss: 0.2815 - val_loss: 0.2839\n",
      "Epoch 48/50\n",
      "60000/60000 [==============================] - 3s 45us/step - loss: 0.2815 - val_loss: 0.2839\n",
      "Epoch 49/50\n",
      "60000/60000 [==============================] - 2s 34us/step - loss: 0.2815 - val_loss: 0.2839\n",
      "Epoch 50/50\n",
      "60000/60000 [==============================] - 2s 37us/step - loss: 0.2814 - val_loss: 0.2838\n"
     ]
    }
   ],
   "source": [
    "#Train the autoencoder model\n",
    "\n",
    "autoencoder.compile(optimizer='adam', loss='binary_crossentropy')\n",
    "aehistory=autoencoder.fit(X_train, X_train,\n",
    "                epochs=50,\n",
    "                batch_size=256,\n",
    "                shuffle=True,\n",
    "                validation_data=(X_test, X_test))\n"
   ]
  },
  {
   "cell_type": "code",
   "execution_count": 52,
   "metadata": {},
   "outputs": [
    {
     "data": {
      "image/png": "[encoded data removed]",
      "text/plain": [
       "<Figure size 432x288 with 1 Axes>"
      ]
     },
     "metadata": {
      "needs_background": "light"
     },
     "output_type": "display_data"
    }
   ],
   "source": [
    "#Plot Training vs Validation Loss for the above\n",
    "\n",
    "graph_plot_loss(aehistory)"
   ]
  },
  {
   "cell_type": "code",
   "execution_count": 53,
   "metadata": {},
   "outputs": [
    {
     "data": {
      "image/png": "[encoded data removed]",
      "text/plain": [
       "<Figure size 1296x288 with 30 Axes>"
      ]
     },
     "metadata": {
      "needs_background": "light"
     },
     "output_type": "display_data"
    }
   ],
   "source": [
    "#viewing my autoencoder\n",
    "\n",
    "num_images = 10\n",
    "np.random.seed(42)\n",
    "random_test_images = np.random.randint(X_test.shape[0], size=num_images)\n",
    "\n",
    "encoded_imgs = encoder.predict(X_test)\n",
    "decoded_imgs = autoencoder.predict(X_test)\n",
    "\n",
    "plt.figure(figsize=(18, 4))\n",
    "\n",
    "for i, image_idx in enumerate(random_test_images):\n",
    "    # plot original image\n",
    "    ax = plt.subplot(3, num_images, i + 1)\n",
    "    plt.imshow(X_test[image_idx].reshape(28, 28))\n",
    "    plt.gray()\n",
    "    ax.get_xaxis().set_visible(False)\n",
    "    ax.get_yaxis().set_visible(False)\n",
    "    \n",
    "    # plot encoded image\n",
    "    ax = plt.subplot(3, num_images, num_images + i + 1)\n",
    "    plt.imshow(encoded_imgs[image_idx].reshape(8, 4))\n",
    "    plt.gray()\n",
    "    ax.get_xaxis().set_visible(False)\n",
    "    ax.get_yaxis().set_visible(False)\n",
    "\n",
    "    # plot reconstructed image\n",
    "    ax = plt.subplot(3, num_images, 2*num_images + i + 1)\n",
    "    plt.imshow(decoded_imgs[image_idx].reshape(28, 28))\n",
    "    plt.gray()\n",
    "    ax.get_xaxis().set_visible(False)\n",
    "    ax.get_yaxis().set_visible(False)\n",
    "plt.show()"
   ]
  },
  {
   "cell_type": "code",
   "execution_count": 54,
   "metadata": {},
   "outputs": [
    {
     "data": {
      "text/plain": [
       "((60000, 32), (10000, 32))"
      ]
     },
     "execution_count": 54,
     "metadata": {},
     "output_type": "execute_result"
    }
   ],
   "source": [
    "#Now perform dimension reduction\n",
    "\n",
    "X_train_dr=encoder.predict(X_train)\n",
    "X_test_dr=encoder.predict(X_test)\n",
    "\n",
    "X_train_dr.shape,X_test_dr.shape"
   ]
  },
  {
   "cell_type": "code",
   "execution_count": 55,
   "metadata": {},
   "outputs": [],
   "source": [
    "#Kmeans using simple autoencoder\n",
    "\n",
    "from sklearn.cluster import KMeans\n",
    "\n",
    "kmeans = KMeans(n_clusters=10, random_state=0)\n",
    "\n",
    "model=kmeans.fit(X_train_dr)\n",
    "\n",
    "predicted_labels=model.predict(X_test_dr)"
   ]
  },
  {
   "cell_type": "code",
   "execution_count": 56,
   "metadata": {},
   "outputs": [
    {
     "name": "stdout",
     "output_type": "stream",
     "text": [
      "Results of Kmeans with Simple Autoencoder\n",
      "\n",
      "\n",
      "Confusion Matrix: \n",
      "\n",
      "[[  0 537 299  11   2   0   1  26  73  51]\n",
      " [800   6  65   0   0   0   0  14  98  17]\n",
      " [  0  12 232 392   1   0   0 317   3  43]\n",
      " [  0  21 181   7   0   0   0  40 539 212]\n",
      " [  0   2  83 495   2   0   0 173  19 226]\n",
      " [  0   0 458   0  87  46 381  28   0   0]\n",
      " [  0 127 284 232   4   0   0 235  37  81]\n",
      " [  0   0  34   0 243   6 717   0   0   0]\n",
      " [  0   1 199  23 257   0  38 469   9   4]\n",
      " [  0   1  46   0 343 586  17   6   1   0]]\n",
      "\n",
      "\n",
      "Accuracy using linear assignment :  0.4787\n",
      "\n",
      "\n",
      "Normalized Mutual Info Score :  0.47842061910866224\n",
      "\n",
      "\n",
      "Adjusted Mutual Info Score :  0.47095945449963783\n"
     ]
    }
   ],
   "source": [
    "\n",
    "from sklearn.metrics import confusion_matrix\n",
    "\n",
    "print ('Results of Kmeans with Simple Autoencoder\\n\\n')\n",
    "\n",
    "print('Confusion Matrix: \\n')\n",
    "\n",
    "print(confusion_matrix(y_test,predicted_labels))\n",
    "\n",
    "acc(y_test,predicted_labels)"
   ]
  },
  {
   "cell_type": "code",
   "execution_count": 57,
   "metadata": {},
   "outputs": [
    {
     "name": "stdout",
     "output_type": "stream",
     "text": [
      "Results of Gaussian Mixture Model with Simple Autoencoder\n",
      "\n",
      "\n",
      "Confusion Matrix: \n",
      "\n",
      "[[  4  31  76  25  62   0  51   0 751   0]\n",
      " [  0 153   6  45  18   0   3   0   4 771]\n",
      " [  1   2  16   7  80   0 872   0  22   0]\n",
      " [  0 459 355  37  31   0  51   0  67   0]\n",
      " [  1   3 127   7  64   0 793   0   5   0]\n",
      " [152   0   0   2   1 410   0 435   0   0]\n",
      " [  3  10  88  20  90   0 574   0 215   0]\n",
      " [227   0   0   0   0 727   0  46   0   0]\n",
      " [285   3   2  60 636   0   8   3   3   0]\n",
      " [127   0   0   4   1   7   0 861   0   0]]\n",
      "\n",
      "\n",
      "Accuracy using linear assignment :  0.5376\n",
      "\n",
      "\n",
      "Normalized Mutual Info Score :  0.5853640533698512\n",
      "\n",
      "\n",
      "Adjusted Mutual Info Score :  0.5669261845589347\n"
     ]
    }
   ],
   "source": [
    "#Gaussian Mixture Model with Simple Autoencoder\n",
    "\n",
    "from sklearn.mixture import GaussianMixture \n",
    "\n",
    "gmm = GaussianMixture(n_components = 10) \n",
    "  \n",
    "gmm_model=gmm.fit(X_train_dr) \n",
    "  \n",
    "plabels = gmm_model.predict(X_test_dr) \n",
    "\n",
    "\n",
    "from sklearn.metrics import confusion_matrix\n",
    "\n",
    "print ('Results of Gaussian Mixture Model with Simple Autoencoder\\n\\n')\n",
    "\n",
    "print('Confusion Matrix: \\n')\n",
    "\n",
    "print(confusion_matrix(y_test,plabels))\n",
    "\n",
    "acc(y_test,plabels)"
   ]
  },
  {
   "cell_type": "code",
   "execution_count": 25,
   "metadata": {},
   "outputs": [
    {
     "name": "stdout",
     "output_type": "stream",
     "text": [
      "Model: \"sequential_2\"\n",
      "_________________________________________________________________\n",
      "Layer (type)                 Output Shape              Param #   \n",
      "=================================================================\n",
      "dense_3 (Dense)              (None, 128)               100480    \n",
      "_________________________________________________________________\n",
      "dense_4 (Dense)              (None, 64)                8256      \n",
      "_________________________________________________________________\n",
      "dense_5 (Dense)              (None, 32)                2080      \n",
      "_________________________________________________________________\n",
      "dense_6 (Dense)              (None, 64)                2112      \n",
      "_________________________________________________________________\n",
      "dense_7 (Dense)              (None, 128)               8320      \n",
      "_________________________________________________________________\n",
      "dense_8 (Dense)              (None, 784)               101136    \n",
      "=================================================================\n",
      "Total params: 222,384\n",
      "Trainable params: 222,384\n",
      "Non-trainable params: 0\n",
      "_________________________________________________________________\n"
     ]
    }
   ],
   "source": [
    "#Deep autoencoder model\n",
    "\n",
    "autoencoder = Sequential()\n",
    "\n",
    "# Encoder Layers\n",
    "autoencoder.add(Dense(4 * encoding_dim, input_shape=(input_dim,), activation='relu'))\n",
    "autoencoder.add(Dense(2 * encoding_dim, activation='relu'))\n",
    "autoencoder.add(Dense(encoding_dim, activation='relu'))\n",
    "\n",
    "# Decoder Layers\n",
    "autoencoder.add(Dense(2 * encoding_dim, activation='relu'))\n",
    "autoencoder.add(Dense(4 * encoding_dim, activation='relu'))\n",
    "autoencoder.add(Dense(input_dim, activation='sigmoid'))\n",
    "\n",
    "autoencoder.summary()"
   ]
  },
  {
   "cell_type": "code",
   "execution_count": 26,
   "metadata": {},
   "outputs": [
    {
     "name": "stdout",
     "output_type": "stream",
     "text": [
      "Model: \"model_2\"\n",
      "_________________________________________________________________\n",
      "Layer (type)                 Output Shape              Param #   \n",
      "=================================================================\n",
      "input_2 (InputLayer)         (None, 784)               0         \n",
      "_________________________________________________________________\n",
      "dense_3 (Dense)              (None, 128)               100480    \n",
      "_________________________________________________________________\n",
      "dense_4 (Dense)              (None, 64)                8256      \n",
      "_________________________________________________________________\n",
      "dense_5 (Dense)              (None, 32)                2080      \n",
      "=================================================================\n",
      "Total params: 110,816\n",
      "Trainable params: 110,816\n",
      "Non-trainable params: 0\n",
      "_________________________________________________________________\n"
     ]
    }
   ],
   "source": [
    "#encoder model for dimension reduction\n",
    "\n",
    "input_img = Input(shape=(input_dim,))\n",
    "encoder_layer1 = autoencoder.layers[0]\n",
    "encoder_layer2 = autoencoder.layers[1]\n",
    "encoder_layer3 = autoencoder.layers[2]\n",
    "encoder = Model(input_img, encoder_layer3(encoder_layer2(encoder_layer1(input_img))))\n",
    "\n",
    "encoder.summary()\n"
   ]
  },
  {
   "cell_type": "code",
   "execution_count": 27,
   "metadata": {},
   "outputs": [
    {
     "name": "stdout",
     "output_type": "stream",
     "text": [
      "Train on 60000 samples, validate on 10000 samples\n",
      "Epoch 1/50\n",
      "60000/60000 [==============================] - 5s 78us/step - loss: 0.3801 - val_loss: 0.3186\n",
      "Epoch 2/50\n",
      "60000/60000 [==============================] - 5s 75us/step - loss: 0.3100 - val_loss: 0.3071\n",
      "Epoch 3/50\n",
      "60000/60000 [==============================] - 4s 60us/step - loss: 0.3013 - val_loss: 0.3004\n",
      "Epoch 4/50\n",
      "60000/60000 [==============================] - 4s 71us/step - loss: 0.2966 - val_loss: 0.2969\n",
      "Epoch 5/50\n",
      "60000/60000 [==============================] - 4s 68us/step - loss: 0.2936 - val_loss: 0.2944\n",
      "Epoch 6/50\n",
      "60000/60000 [==============================] - 4s 60us/step - loss: 0.2916 - val_loss: 0.2928\n",
      "Epoch 7/50\n",
      "60000/60000 [==============================] - 4s 61us/step - loss: 0.2900 - val_loss: 0.2912\n",
      "Epoch 8/50\n",
      "60000/60000 [==============================] - 4s 66us/step - loss: 0.2885 - val_loss: 0.2900\n",
      "Epoch 9/50\n",
      "60000/60000 [==============================] - 4s 67us/step - loss: 0.2871 - val_loss: 0.2890\n",
      "Epoch 10/50\n",
      "60000/60000 [==============================] - 4s 61us/step - loss: 0.2861 - val_loss: 0.2878\n",
      "Epoch 11/50\n",
      "60000/60000 [==============================] - 3s 58us/step - loss: 0.2850 - val_loss: 0.2873\n",
      "Epoch 12/50\n",
      "60000/60000 [==============================] - 4s 62us/step - loss: 0.2842 - val_loss: 0.2864\n",
      "Epoch 13/50\n",
      "60000/60000 [==============================] - 3s 58us/step - loss: 0.2835 - val_loss: 0.2859\n",
      "Epoch 14/50\n",
      "60000/60000 [==============================] - 3s 56us/step - loss: 0.2828 - val_loss: 0.2849\n",
      "Epoch 15/50\n",
      "60000/60000 [==============================] - 3s 56us/step - loss: 0.2823 - val_loss: 0.2844\n",
      "Epoch 16/50\n",
      "60000/60000 [==============================] - 3s 56us/step - loss: 0.2816 - val_loss: 0.2839\n",
      "Epoch 17/50\n",
      "60000/60000 [==============================] - 3s 55us/step - loss: 0.2811 - val_loss: 0.2834\n",
      "Epoch 18/50\n",
      "60000/60000 [==============================] - 3s 56us/step - loss: 0.2807 - val_loss: 0.2828\n",
      "Epoch 19/50\n",
      "60000/60000 [==============================] - 3s 56us/step - loss: 0.2802 - val_loss: 0.2825\n",
      "Epoch 20/50\n",
      "60000/60000 [==============================] - 3s 56us/step - loss: 0.2798 - val_loss: 0.2827\n",
      "Epoch 21/50\n",
      "60000/60000 [==============================] - 3s 56us/step - loss: 0.2795 - val_loss: 0.2821\n",
      "Epoch 22/50\n",
      "60000/60000 [==============================] - 3s 57us/step - loss: 0.2790 - val_loss: 0.2815\n",
      "Epoch 23/50\n",
      "60000/60000 [==============================] - 3s 57us/step - loss: 0.2786 - val_loss: 0.2810\n",
      "Epoch 24/50\n",
      "60000/60000 [==============================] - 3s 56us/step - loss: 0.2784 - val_loss: 0.2806\n",
      "Epoch 25/50\n",
      "60000/60000 [==============================] - 3s 57us/step - loss: 0.2781 - val_loss: 0.2808\n",
      "Epoch 26/50\n",
      "60000/60000 [==============================] - 3s 56us/step - loss: 0.2778 - val_loss: 0.2801\n",
      "Epoch 27/50\n",
      "60000/60000 [==============================] - 3s 57us/step - loss: 0.2775 - val_loss: 0.2797\n",
      "Epoch 28/50\n",
      "60000/60000 [==============================] - 3s 57us/step - loss: 0.2772 - val_loss: 0.2797\n",
      "Epoch 29/50\n",
      "60000/60000 [==============================] - 3s 56us/step - loss: 0.2770 - val_loss: 0.2795\n",
      "Epoch 30/50\n",
      "60000/60000 [==============================] - 3s 58us/step - loss: 0.2769 - val_loss: 0.2801\n",
      "Epoch 31/50\n",
      "60000/60000 [==============================] - 3s 56us/step - loss: 0.2766 - val_loss: 0.2793\n",
      "Epoch 32/50\n",
      "60000/60000 [==============================] - 4s 62us/step - loss: 0.2764 - val_loss: 0.2790\n",
      "Epoch 33/50\n",
      "60000/60000 [==============================] - 4s 59us/step - loss: 0.2763 - val_loss: 0.2786\n",
      "Epoch 34/50\n",
      "60000/60000 [==============================] - 3s 57us/step - loss: 0.2760 - val_loss: 0.2783\n",
      "Epoch 35/50\n",
      "60000/60000 [==============================] - 3s 57us/step - loss: 0.2758 - val_loss: 0.2785\n",
      "Epoch 36/50\n",
      "60000/60000 [==============================] - 4s 59us/step - loss: 0.2757 - val_loss: 0.2780\n",
      "Epoch 37/50\n",
      "60000/60000 [==============================] - 3s 57us/step - loss: 0.2755 - val_loss: 0.2781\n",
      "Epoch 38/50\n",
      "60000/60000 [==============================] - 3s 58us/step - loss: 0.2754 - val_loss: 0.2782\n",
      "Epoch 39/50\n",
      "60000/60000 [==============================] - 4s 62us/step - loss: 0.2752 - val_loss: 0.2776\n",
      "Epoch 40/50\n",
      "60000/60000 [==============================] - 4s 60us/step - loss: 0.2751 - val_loss: 0.2776\n",
      "Epoch 41/50\n",
      "60000/60000 [==============================] - 3s 57us/step - loss: 0.2750 - val_loss: 0.2778\n",
      "Epoch 42/50\n",
      "60000/60000 [==============================] - 4s 63us/step - loss: 0.2749 - val_loss: 0.2773\n",
      "Epoch 43/50\n",
      "60000/60000 [==============================] - 3s 57us/step - loss: 0.2747 - val_loss: 0.2773\n",
      "Epoch 44/50\n",
      "60000/60000 [==============================] - 3s 58us/step - loss: 0.2746 - val_loss: 0.2773\n",
      "Epoch 45/50\n",
      "60000/60000 [==============================] - 3s 57us/step - loss: 0.2745 - val_loss: 0.2770\n",
      "Epoch 46/50\n",
      "60000/60000 [==============================] - 3s 57us/step - loss: 0.2744 - val_loss: 0.2769\n",
      "Epoch 47/50\n",
      "60000/60000 [==============================] - 3s 57us/step - loss: 0.2743 - val_loss: 0.2769\n",
      "Epoch 48/50\n",
      "60000/60000 [==============================] - 3s 57us/step - loss: 0.2742 - val_loss: 0.2768\n",
      "Epoch 49/50\n",
      "60000/60000 [==============================] - 3s 58us/step - loss: 0.2741 - val_loss: 0.2766\n",
      "Epoch 50/50\n",
      "60000/60000 [==============================] - 3s 57us/step - loss: 0.2741 - val_loss: 0.2766\n"
     ]
    }
   ],
   "source": [
    "#Training the model\n",
    "\n",
    "autoencoder.compile(optimizer='adam', loss='binary_crossentropy')\n",
    "aehistory= autoencoder.fit(X_train, X_train,\n",
    "                epochs=50,\n",
    "                batch_size=256,\n",
    "                validation_data=(X_test, X_test))\n"
   ]
  },
  {
   "cell_type": "code",
   "execution_count": 28,
   "metadata": {},
   "outputs": [
    {
     "data": {
      "image/png": "[encoded data removed]",
      "text/plain": [
       "<Figure size 432x288 with 1 Axes>"
      ]
     },
     "metadata": {
      "needs_background": "light"
     },
     "output_type": "display_data"
    }
   ],
   "source": [
    "#Plot Training vs Validation Loss for the above\n",
    "\n",
    "graph_plot_loss(aehistory)"
   ]
  },
  {
   "cell_type": "code",
   "execution_count": 29,
   "metadata": {},
   "outputs": [
    {
     "data": {
      "image/png": "[encoded data removed]",
      "text/plain": [
       "<Figure size 1296x288 with 30 Axes>"
      ]
     },
     "metadata": {
      "needs_background": "light"
     },
     "output_type": "display_data"
    }
   ],
   "source": [
    "num_images = 10\n",
    "np.random.seed(42)\n",
    "random_test_images = np.random.randint(X_test.shape[0], size=num_images)\n",
    "\n",
    "encoded_imgs = encoder.predict(X_test)\n",
    "decoded_imgs = autoencoder.predict(X_test)\n",
    "\n",
    "plt.figure(figsize=(18, 4))\n",
    "\n",
    "for i, image_idx in enumerate(random_test_images):\n",
    "    # plot original image\n",
    "    ax = plt.subplot(3, num_images, i + 1)\n",
    "    plt.imshow(X_test[image_idx].reshape(28, 28))\n",
    "    plt.gray()\n",
    "    ax.get_xaxis().set_visible(False)\n",
    "    ax.get_yaxis().set_visible(False)\n",
    "    \n",
    "    # plot encoded image\n",
    "    ax = plt.subplot(3, num_images, num_images + i + 1)\n",
    "    plt.imshow(encoded_imgs[image_idx].reshape(8, 4))\n",
    "    plt.gray()\n",
    "    ax.get_xaxis().set_visible(False)\n",
    "    ax.get_yaxis().set_visible(False)\n",
    "\n",
    "    # plot reconstructed image\n",
    "    ax = plt.subplot(3, num_images, 2*num_images + i + 1)\n",
    "    plt.imshow(decoded_imgs[image_idx].reshape(28, 28))\n",
    "    plt.gray()\n",
    "    ax.get_xaxis().set_visible(False)\n",
    "    ax.get_yaxis().set_visible(False)\n",
    "plt.show()"
   ]
  },
  {
   "cell_type": "code",
   "execution_count": 30,
   "metadata": {},
   "outputs": [
    {
     "data": {
      "text/plain": [
       "((60000, 32), (10000, 32))"
      ]
     },
     "execution_count": 30,
     "metadata": {},
     "output_type": "execute_result"
    }
   ],
   "source": [
    "#Now perform dimension reduction\n",
    "\n",
    "X_train_dr=encoder.predict(X_train)\n",
    "X_test_dr=encoder.predict(X_test)\n",
    "\n",
    "X_train_dr.shape,X_test_dr.shape"
   ]
  },
  {
   "cell_type": "code",
   "execution_count": 31,
   "metadata": {},
   "outputs": [
    {
     "name": "stdout",
     "output_type": "stream",
     "text": [
      "Results of Kmeans with Deep Autoencoder\n",
      "\n",
      "\n",
      "Confusion Matrix: \n",
      "\n",
      "[[  1  85   0   2 568   1   1  25   0 317]\n",
      " [  0 330   0   0   8   0 580   9   0  73]\n",
      " [  3   6   0   6  15   0   0 606   0 364]\n",
      " [  1 585   0   7  45   0 163  25   0 174]\n",
      " [  2 112   0  12   4   0   0 695   0 175]\n",
      " [263   0 235   0   0 279   0   0 138  85]\n",
      " [  5  56   0  16 157   0   2 316   0 448]\n",
      " [112   0 345   0   0 480   0   0  62   1]\n",
      " [280  25   3 433   2  66   0  23   0 168]\n",
      " [160   2   4   8   0 142   0   0 653  31]]\n",
      "\n",
      "\n",
      "Accuracy using linear assignment :  0.4705\n",
      "\n",
      "\n",
      "Normalized Mutual Info Score :  0.4832050389619245\n",
      "\n",
      "\n",
      "Adjusted Mutual Info Score :  0.4732735518933073\n"
     ]
    }
   ],
   "source": [
    "# Kmeans with Deep Autoencoder\n",
    "\n",
    "from sklearn.cluster import KMeans\n",
    "\n",
    "kmeans = KMeans(n_clusters=10, random_state=0)\n",
    "\n",
    "model=kmeans.fit(X_train_dr)\n",
    "\n",
    "predicted_labels=model.predict(X_test_dr)\n",
    "\n",
    "from sklearn.metrics import confusion_matrix\n",
    "\n",
    "print ('Results of Kmeans with Deep Autoencoder\\n\\n')\n",
    "\n",
    "print('Confusion Matrix: \\n')\n",
    "\n",
    "print(confusion_matrix(y_test,predicted_labels))\n",
    "\n",
    "acc(y_test,predicted_labels)"
   ]
  },
  {
   "cell_type": "code",
   "execution_count": 39,
   "metadata": {},
   "outputs": [
    {
     "name": "stdout",
     "output_type": "stream",
     "text": [
      "Results of Gaussian Mixture Model with Deep Autoencoder\n",
      "\n",
      "\n",
      "Confusion Matrix: \n",
      "\n",
      "[[  0  21  49  94   0   0   6 126   2 702]\n",
      " [  0   2  60  16   0 807   4 111   0   0]\n",
      " [  1   4  51 730   0   0 192  11   3   8]\n",
      " [  0   4  38 109   0   0   0 828   0  21]\n",
      " [  0   3  31 761   0   0 126  76   2   1]\n",
      " [ 99   3  22   1 438   0   0   0 437   0]\n",
      " [  0  26  27 592   0   0  73  92   3 187]\n",
      " [206   0   0   0 768   0   0   0  26   0]\n",
      " [  8 744  81  49   2   0   2  10 104   0]\n",
      " [875   1  48   0  19   0   0   0  57   0]]\n",
      "\n",
      "\n",
      "Accuracy using linear assignment :  0.6141\n",
      "\n",
      "\n",
      "Normalized Mutual Info Score :  0.599561345684532\n",
      "\n",
      "\n",
      "Adjusted Mutual Info Score :  0.581541389314918\n"
     ]
    }
   ],
   "source": [
    "#Gaussian Mixture Model with Deep Autoencoder\n",
    "\n",
    "from sklearn.mixture import GaussianMixture \n",
    "\n",
    "gmm = GaussianMixture(n_components = 10) \n",
    "  \n",
    "gmm_model=gmm.fit(X_train_dr) \n",
    "  \n",
    "plabels = gmm_model.predict(X_test_dr) \n",
    "\n",
    "\n",
    "from sklearn.metrics import confusion_matrix\n",
    "\n",
    "print ('Results of Gaussian Mixture Model with Deep Autoencoder\\n\\n')\n",
    "\n",
    "print('Confusion Matrix: \\n')\n",
    "\n",
    "print(confusion_matrix(y_test,plabels))\n",
    "\n",
    "acc(y_test,plabels)"
   ]
  },
  {
   "cell_type": "code",
   "execution_count": 33,
   "metadata": {},
   "outputs": [
    {
     "data": {
      "text/plain": [
       "((60000, 28, 28, 1), (10000, 28, 28, 1))"
      ]
     },
     "execution_count": 33,
     "metadata": {},
     "output_type": "execute_result"
    }
   ],
   "source": [
    "#Preprocessing for convolution autoencoder\n",
    "\n",
    "x_train = X_train.reshape((len(X_train), 28, 28, 1))\n",
    "x_test = X_test.reshape((len(X_test), 28, 28, 1))\n",
    "\n",
    "\n",
    "x_train.shape,x_test.shape"
   ]
  },
  {
   "cell_type": "code",
   "execution_count": 34,
   "metadata": {},
   "outputs": [
    {
     "name": "stdout",
     "output_type": "stream",
     "text": [
      "Model: \"sequential_3\"\n",
      "_________________________________________________________________\n",
      "Layer (type)                 Output Shape              Param #   \n",
      "=================================================================\n",
      "conv2d_1 (Conv2D)            (None, 28, 28, 16)        160       \n",
      "_________________________________________________________________\n",
      "max_pooling2d_1 (MaxPooling2 (None, 14, 14, 16)        0         \n",
      "_________________________________________________________________\n",
      "conv2d_2 (Conv2D)            (None, 14, 14, 8)         1160      \n",
      "_________________________________________________________________\n",
      "max_pooling2d_2 (MaxPooling2 (None, 7, 7, 8)           0         \n",
      "_________________________________________________________________\n",
      "conv2d_3 (Conv2D)            (None, 4, 4, 8)           584       \n",
      "_________________________________________________________________\n",
      "flatten_1 (Flatten)          (None, 128)               0         \n",
      "_________________________________________________________________\n",
      "reshape_1 (Reshape)          (None, 4, 4, 8)           0         \n",
      "_________________________________________________________________\n",
      "conv2d_4 (Conv2D)            (None, 4, 4, 8)           584       \n",
      "_________________________________________________________________\n",
      "up_sampling2d_1 (UpSampling2 (None, 8, 8, 8)           0         \n",
      "_________________________________________________________________\n",
      "conv2d_5 (Conv2D)            (None, 8, 8, 8)           584       \n",
      "_________________________________________________________________\n",
      "up_sampling2d_2 (UpSampling2 (None, 16, 16, 8)         0         \n",
      "_________________________________________________________________\n",
      "conv2d_6 (Conv2D)            (None, 14, 14, 16)        1168      \n",
      "_________________________________________________________________\n",
      "up_sampling2d_3 (UpSampling2 (None, 28, 28, 16)        0         \n",
      "_________________________________________________________________\n",
      "conv2d_7 (Conv2D)            (None, 28, 28, 1)         145       \n",
      "=================================================================\n",
      "Total params: 4,385\n",
      "Trainable params: 4,385\n",
      "Non-trainable params: 0\n",
      "_________________________________________________________________\n"
     ]
    }
   ],
   "source": [
    "\n",
    "#Convolution Autoencoder\n",
    "\n",
    "autoencoder = Sequential()\n",
    "\n",
    "# Encoder Layers\n",
    "autoencoder.add(Conv2D(16, (3, 3), activation='relu', padding='same', input_shape=x_train.shape[1:]))\n",
    "autoencoder.add(MaxPooling2D((2, 2), padding='same'))\n",
    "autoencoder.add(Conv2D(8, (3, 3), activation='relu', padding='same'))\n",
    "autoencoder.add(MaxPooling2D((2, 2), padding='same'))\n",
    "autoencoder.add(Conv2D(8, (3, 3), strides=(2,2), activation='relu', padding='same'))\n",
    "\n",
    "# Flatten encoding for visualization\n",
    "autoencoder.add(Flatten())\n",
    "autoencoder.add(Reshape((4, 4, 8)))\n",
    "\n",
    "# Decoder Layers\n",
    "autoencoder.add(Conv2D(8, (3, 3), activation='relu', padding='same'))\n",
    "autoencoder.add(UpSampling2D((2, 2)))\n",
    "autoencoder.add(Conv2D(8, (3, 3), activation='relu', padding='same'))\n",
    "autoencoder.add(UpSampling2D((2, 2)))\n",
    "autoencoder.add(Conv2D(16, (3, 3), activation='relu'))\n",
    "autoencoder.add(UpSampling2D((2, 2)))\n",
    "autoencoder.add(Conv2D(1, (3, 3), activation='sigmoid', padding='same'))\n",
    "\n",
    "autoencoder.summary()\n"
   ]
  },
  {
   "cell_type": "code",
   "execution_count": 35,
   "metadata": {},
   "outputs": [
    {
     "name": "stdout",
     "output_type": "stream",
     "text": [
      "Model: \"model_3\"\n",
      "_________________________________________________________________\n",
      "Layer (type)                 Output Shape              Param #   \n",
      "=================================================================\n",
      "conv2d_1_input (InputLayer)  (None, 28, 28, 1)         0         \n",
      "_________________________________________________________________\n",
      "conv2d_1 (Conv2D)            (None, 28, 28, 16)        160       \n",
      "_________________________________________________________________\n",
      "max_pooling2d_1 (MaxPooling2 (None, 14, 14, 16)        0         \n",
      "_________________________________________________________________\n",
      "conv2d_2 (Conv2D)            (None, 14, 14, 8)         1160      \n",
      "_________________________________________________________________\n",
      "max_pooling2d_2 (MaxPooling2 (None, 7, 7, 8)           0         \n",
      "_________________________________________________________________\n",
      "conv2d_3 (Conv2D)            (None, 4, 4, 8)           584       \n",
      "_________________________________________________________________\n",
      "flatten_1 (Flatten)          (None, 128)               0         \n",
      "=================================================================\n",
      "Total params: 1,904\n",
      "Trainable params: 1,904\n",
      "Non-trainable params: 0\n",
      "_________________________________________________________________\n"
     ]
    }
   ],
   "source": [
    "#The encoder model based on convolution autoencoder\n",
    "\n",
    "encoder = Model(inputs=autoencoder.input, outputs=autoencoder.get_layer('flatten_1').output)\n",
    "encoder.summary()\n"
   ]
  },
  {
   "cell_type": "code",
   "execution_count": 36,
   "metadata": {},
   "outputs": [
    {
     "name": "stdout",
     "output_type": "stream",
     "text": [
      "Train on 60000 samples, validate on 10000 samples\n",
      "Epoch 1/100\n",
      "60000/60000 [==============================] - 68s 1ms/step - loss: 0.3502 - val_loss: 0.3017\n",
      "Epoch 2/100\n",
      "60000/60000 [==============================] - 63s 1ms/step - loss: 0.2956 - val_loss: 0.2946\n",
      "Epoch 3/100\n",
      "60000/60000 [==============================] - 62s 1ms/step - loss: 0.2907 - val_loss: 0.2915\n",
      "Epoch 4/100\n",
      "60000/60000 [==============================] - 63s 1ms/step - loss: 0.2882 - val_loss: 0.2892\n",
      "Epoch 5/100\n",
      "60000/60000 [==============================] - 70s 1ms/step - loss: 0.2865 - val_loss: 0.2877\n",
      "Epoch 6/100\n",
      "60000/60000 [==============================] - 70s 1ms/step - loss: 0.2852 - val_loss: 0.2866\n",
      "Epoch 7/100\n",
      "60000/60000 [==============================] - 71s 1ms/step - loss: 0.2841 - val_loss: 0.2859\n",
      "Epoch 8/100\n",
      "60000/60000 [==============================] - 67s 1ms/step - loss: 0.2832 - val_loss: 0.2848\n",
      "Epoch 9/100\n",
      "60000/60000 [==============================] - 65s 1ms/step - loss: 0.2825 - val_loss: 0.2840\n",
      "Epoch 10/100\n",
      "60000/60000 [==============================] - 65s 1ms/step - loss: 0.2818 - val_loss: 0.2837\n",
      "Epoch 11/100\n",
      "60000/60000 [==============================] - 66s 1ms/step - loss: 0.2812 - val_loss: 0.2829\n",
      "Epoch 12/100\n",
      "60000/60000 [==============================] - 66s 1ms/step - loss: 0.2806 - val_loss: 0.2823\n",
      "Epoch 13/100\n",
      "60000/60000 [==============================] - 65s 1ms/step - loss: 0.2801 - val_loss: 0.2817\n",
      "Epoch 14/100\n",
      "60000/60000 [==============================] - 70s 1ms/step - loss: 0.2796 - val_loss: 0.2815\n",
      "Epoch 15/100\n",
      "60000/60000 [==============================] - 63s 1ms/step - loss: 0.2791 - val_loss: 0.2811\n",
      "Epoch 16/100\n",
      "60000/60000 [==============================] - 63s 1ms/step - loss: 0.2788 - val_loss: 0.2807\n",
      "Epoch 17/100\n",
      "60000/60000 [==============================] - 62s 1ms/step - loss: 0.2785 - val_loss: 0.2803\n",
      "Epoch 18/100\n",
      "60000/60000 [==============================] - 62s 1ms/step - loss: 0.2781 - val_loss: 0.2800\n",
      "Epoch 19/100\n",
      "60000/60000 [==============================] - 67s 1ms/step - loss: 0.2779 - val_loss: 0.2800\n",
      "Epoch 20/100\n",
      "60000/60000 [==============================] - 67s 1ms/step - loss: 0.2777 - val_loss: 0.2795\n",
      "Epoch 21/100\n",
      "60000/60000 [==============================] - 66s 1ms/step - loss: 0.2774 - val_loss: 0.2794\n",
      "Epoch 22/100\n",
      "60000/60000 [==============================] - 71s 1ms/step - loss: 0.2773 - val_loss: 0.2791\n",
      "Epoch 23/100\n",
      "60000/60000 [==============================] - 70s 1ms/step - loss: 0.2770 - val_loss: 0.2789\n",
      "Epoch 24/100\n",
      "60000/60000 [==============================] - 73s 1ms/step - loss: 0.2769 - val_loss: 0.2787\n",
      "Epoch 25/100\n",
      "60000/60000 [==============================] - 68s 1ms/step - loss: 0.2767 - val_loss: 0.2790\n",
      "Epoch 26/100\n",
      "60000/60000 [==============================] - 68s 1ms/step - loss: 0.2765 - val_loss: 0.2784\n",
      "Epoch 27/100\n",
      "60000/60000 [==============================] - 70s 1ms/step - loss: 0.2763 - val_loss: 0.2782\n",
      "Epoch 28/100\n",
      "60000/60000 [==============================] - 70s 1ms/step - loss: 0.2762 - val_loss: 0.2781\n",
      "Epoch 29/100\n",
      "60000/60000 [==============================] - 74s 1ms/step - loss: 0.2760 - val_loss: 0.2780\n",
      "Epoch 30/100\n",
      "60000/60000 [==============================] - 71s 1ms/step - loss: 0.2757 - val_loss: 0.2776\n",
      "Epoch 31/100\n",
      "60000/60000 [==============================] - 70s 1ms/step - loss: 0.2756 - val_loss: 0.2776\n",
      "Epoch 32/100\n",
      "60000/60000 [==============================] - 68s 1ms/step - loss: 0.2754 - val_loss: 0.2775\n",
      "Epoch 33/100\n",
      "60000/60000 [==============================] - 68s 1ms/step - loss: 0.2753 - val_loss: 0.2772\n",
      "Epoch 34/100\n",
      "60000/60000 [==============================] - 66s 1ms/step - loss: 0.2752 - val_loss: 0.2772\n",
      "Epoch 35/100\n",
      "60000/60000 [==============================] - 65s 1ms/step - loss: 0.2750 - val_loss: 0.2771\n",
      "Epoch 36/100\n",
      "60000/60000 [==============================] - 65s 1ms/step - loss: 0.2749 - val_loss: 0.2771\n",
      "Epoch 37/100\n",
      "60000/60000 [==============================] - 66s 1ms/step - loss: 0.2747 - val_loss: 0.2766\n",
      "Epoch 38/100\n",
      "60000/60000 [==============================] - 65s 1ms/step - loss: 0.2746 - val_loss: 0.2765\n",
      "Epoch 39/100\n",
      "60000/60000 [==============================] - 66s 1ms/step - loss: 0.2744 - val_loss: 0.2767\n",
      "Epoch 40/100\n",
      "60000/60000 [==============================] - 65s 1ms/step - loss: 0.2743 - val_loss: 0.2764\n",
      "Epoch 41/100\n",
      "60000/60000 [==============================] - 70s 1ms/step - loss: 0.2742 - val_loss: 0.2760\n",
      "Epoch 42/100\n",
      "60000/60000 [==============================] - 67s 1ms/step - loss: 0.2740 - val_loss: 0.2759\n",
      "Epoch 43/100\n",
      "60000/60000 [==============================] - 67s 1ms/step - loss: 0.2739 - val_loss: 0.2758\n",
      "Epoch 44/100\n",
      "60000/60000 [==============================] - 67s 1ms/step - loss: 0.2738 - val_loss: 0.2757\n",
      "Epoch 45/100\n",
      "60000/60000 [==============================] - 66s 1ms/step - loss: 0.2737 - val_loss: 0.2757\n",
      "Epoch 46/100\n",
      "60000/60000 [==============================] - 66s 1ms/step - loss: 0.2736 - val_loss: 0.2757\n",
      "Epoch 47/100\n",
      "60000/60000 [==============================] - 67s 1ms/step - loss: 0.2734 - val_loss: 0.2754\n",
      "Epoch 48/100\n",
      "60000/60000 [==============================] - 2496s 42ms/step - loss: 0.2733 - val_loss: 0.2753\n",
      "Epoch 49/100\n",
      "60000/60000 [==============================] - 67s 1ms/step - loss: 0.2733 - val_loss: 0.2753\n",
      "Epoch 50/100\n",
      "60000/60000 [==============================] - 68s 1ms/step - loss: 0.2732 - val_loss: 0.2751\n",
      "Epoch 51/100\n",
      "60000/60000 [==============================] - 72s 1ms/step - loss: 0.2730 - val_loss: 0.2761\n",
      "Epoch 52/100\n",
      "60000/60000 [==============================] - 67s 1ms/step - loss: 0.2729 - val_loss: 0.2753\n",
      "Epoch 53/100\n",
      "60000/60000 [==============================] - 69s 1ms/step - loss: 0.2729 - val_loss: 0.2749\n",
      "Epoch 54/100\n",
      "60000/60000 [==============================] - 70s 1ms/step - loss: 0.2727 - val_loss: 0.2747\n",
      "Epoch 55/100\n",
      "60000/60000 [==============================] - 69s 1ms/step - loss: 0.2726 - val_loss: 0.2749\n",
      "Epoch 56/100\n",
      "60000/60000 [==============================] - 73s 1ms/step - loss: 0.2726 - val_loss: 0.2748\n",
      "Epoch 57/100\n",
      "60000/60000 [==============================] - 67s 1ms/step - loss: 0.2725 - val_loss: 0.2745\n",
      "Epoch 58/100\n",
      "60000/60000 [==============================] - 66s 1ms/step - loss: 0.2724 - val_loss: 0.2744\n",
      "Epoch 59/100\n",
      "60000/60000 [==============================] - 72s 1ms/step - loss: 0.2723 - val_loss: 0.2745\n",
      "Epoch 60/100\n",
      "60000/60000 [==============================] - 69s 1ms/step - loss: 0.2723 - val_loss: 0.2747\n",
      "Epoch 61/100\n",
      "60000/60000 [==============================] - 58s 963us/step - loss: 0.2722 - val_loss: 0.2742\n",
      "Epoch 62/100\n",
      "60000/60000 [==============================] - 68s 1ms/step - loss: 0.2721 - val_loss: 0.2740\n",
      "Epoch 63/100\n",
      "60000/60000 [==============================] - 67s 1ms/step - loss: 0.2720 - val_loss: 0.2744\n",
      "Epoch 64/100\n",
      "60000/60000 [==============================] - 67s 1ms/step - loss: 0.2720 - val_loss: 0.2738\n",
      "Epoch 65/100\n",
      "60000/60000 [==============================] - 67s 1ms/step - loss: 0.2719 - val_loss: 0.2740\n",
      "Epoch 66/100\n",
      "60000/60000 [==============================] - 68s 1ms/step - loss: 0.2718 - val_loss: 0.2738\n",
      "Epoch 67/100\n",
      "60000/60000 [==============================] - 69s 1ms/step - loss: 0.2717 - val_loss: 0.2737\n",
      "Epoch 68/100\n",
      "60000/60000 [==============================] - 67s 1ms/step - loss: 0.2717 - val_loss: 0.2736\n",
      "Epoch 69/100\n",
      "60000/60000 [==============================] - 70s 1ms/step - loss: 0.2716 - val_loss: 0.2739\n",
      "Epoch 70/100\n",
      "60000/60000 [==============================] - 69s 1ms/step - loss: 0.2715 - val_loss: 0.2735\n",
      "Epoch 71/100\n",
      "60000/60000 [==============================] - 73s 1ms/step - loss: 0.2713 - val_loss: 0.2733\n",
      "Epoch 72/100\n",
      "60000/60000 [==============================] - 68s 1ms/step - loss: 0.2711 - val_loss: 0.2731\n",
      "Epoch 73/100\n",
      "60000/60000 [==============================] - 72s 1ms/step - loss: 0.2711 - val_loss: 0.2738\n",
      "Epoch 74/100\n",
      "60000/60000 [==============================] - 66s 1ms/step - loss: 0.2710 - val_loss: 0.2732\n",
      "Epoch 75/100\n",
      "60000/60000 [==============================] - 71s 1ms/step - loss: 0.2709 - val_loss: 0.2732\n",
      "Epoch 76/100\n",
      "60000/60000 [==============================] - 67s 1ms/step - loss: 0.2709 - val_loss: 0.2729\n",
      "Epoch 77/100\n",
      "60000/60000 [==============================] - 69s 1ms/step - loss: 0.2708 - val_loss: 0.2731\n",
      "Epoch 78/100\n",
      "60000/60000 [==============================] - 69s 1ms/step - loss: 0.2707 - val_loss: 0.2728\n",
      "Epoch 79/100\n",
      "60000/60000 [==============================] - 69s 1ms/step - loss: 0.2707 - val_loss: 0.2726\n",
      "Epoch 80/100\n",
      "60000/60000 [==============================] - 66s 1ms/step - loss: 0.2707 - val_loss: 0.2727\n",
      "Epoch 81/100\n",
      "60000/60000 [==============================] - 69s 1ms/step - loss: 0.2706 - val_loss: 0.2725\n",
      "Epoch 82/100\n",
      "60000/60000 [==============================] - 69s 1ms/step - loss: 0.2705 - val_loss: 0.2726\n",
      "Epoch 83/100\n",
      "60000/60000 [==============================] - 71s 1ms/step - loss: 0.2705 - val_loss: 0.2724\n",
      "Epoch 84/100\n",
      "60000/60000 [==============================] - 67s 1ms/step - loss: 0.2704 - val_loss: 0.2725\n",
      "Epoch 85/100\n",
      "60000/60000 [==============================] - 74s 1ms/step - loss: 0.2704 - val_loss: 0.2725\n",
      "Epoch 86/100\n",
      "60000/60000 [==============================] - 69s 1ms/step - loss: 0.2704 - val_loss: 0.2723\n",
      "Epoch 87/100\n",
      "60000/60000 [==============================] - 70s 1ms/step - loss: 0.2703 - val_loss: 0.2723\n",
      "Epoch 88/100\n",
      "60000/60000 [==============================] - 71s 1ms/step - loss: 0.2703 - val_loss: 0.2722\n",
      "Epoch 89/100\n",
      "60000/60000 [==============================] - 73s 1ms/step - loss: 0.2702 - val_loss: 0.2723\n",
      "Epoch 90/100\n",
      "60000/60000 [==============================] - 73s 1ms/step - loss: 0.2702 - val_loss: 0.2723\n",
      "Epoch 91/100\n",
      "60000/60000 [==============================] - 71s 1ms/step - loss: 0.2701 - val_loss: 0.2722\n",
      "Epoch 92/100\n",
      "60000/60000 [==============================] - 70s 1ms/step - loss: 0.2701 - val_loss: 0.2720\n",
      "Epoch 93/100\n",
      "60000/60000 [==============================] - 70s 1ms/step - loss: 0.2701 - val_loss: 0.2722\n",
      "Epoch 94/100\n",
      "60000/60000 [==============================] - 71s 1ms/step - loss: 0.2700 - val_loss: 0.2725\n",
      "Epoch 95/100\n",
      "60000/60000 [==============================] - 71s 1ms/step - loss: 0.2700 - val_loss: 0.2720\n",
      "Epoch 96/100\n",
      "60000/60000 [==============================] - 71s 1ms/step - loss: 0.2700 - val_loss: 0.2727\n",
      "Epoch 97/100\n",
      "60000/60000 [==============================] - 69s 1ms/step - loss: 0.2699 - val_loss: 0.2719\n",
      "Epoch 98/100\n",
      "60000/60000 [==============================] - 72s 1ms/step - loss: 0.2699 - val_loss: 0.2722\n",
      "Epoch 99/100\n",
      "60000/60000 [==============================] - 71s 1ms/step - loss: 0.2699 - val_loss: 0.2727\n",
      "Epoch 100/100\n",
      "60000/60000 [==============================] - 72s 1ms/step - loss: 0.2698 - val_loss: 0.2718\n"
     ]
    }
   ],
   "source": [
    "#Train the convolution autoencoder\n",
    "\n",
    "autoencoder.compile(optimizer='adam', loss='binary_crossentropy')\n",
    "aehistory=autoencoder.fit(x_train, x_train,\n",
    "                epochs=100,\n",
    "                batch_size=128,\n",
    "                validation_data=(x_test, x_test))"
   ]
  },
  {
   "cell_type": "code",
   "execution_count": 37,
   "metadata": {},
   "outputs": [
    {
     "data": {
      "image/png": "[encoded data removed]",
      "text/plain": [
       "<Figure size 432x288 with 1 Axes>"
      ]
     },
     "metadata": {
      "needs_background": "light"
     },
     "output_type": "display_data"
    }
   ],
   "source": [
    "#Plot Training vs Validation Loss for the above\n",
    "\n",
    "graph_plot_loss(aehistory)\n",
    "\n",
    "autoencoder.save_weights('autoencoder_cnn.h5')"
   ]
  },
  {
   "cell_type": "code",
   "execution_count": 38,
   "metadata": {},
   "outputs": [
    {
     "data": {
      "image/png": "[encoded data removed]",
      "text/plain": [
       "<Figure size 1296x288 with 30 Axes>"
      ]
     },
     "metadata": {
      "needs_background": "light"
     },
     "output_type": "display_data"
    }
   ],
   "source": [
    "num_images = 10\n",
    "np.random.seed(42)\n",
    "random_test_images = np.random.randint(x_test.shape[0], size=num_images)\n",
    "\n",
    "encoded_imgs = encoder.predict(x_test)\n",
    "decoded_imgs = autoencoder.predict(x_test)\n",
    "\n",
    "plt.figure(figsize=(18, 4))\n",
    "\n",
    "for i, image_idx in enumerate(random_test_images):\n",
    "    # plot original image\n",
    "    ax = plt.subplot(3, num_images, i + 1)\n",
    "    plt.imshow(x_test[image_idx].reshape(28, 28))\n",
    "    plt.gray()\n",
    "    ax.get_xaxis().set_visible(False)\n",
    "    ax.get_yaxis().set_visible(False)\n",
    "    \n",
    "    # plot encoded image\n",
    "    ax = plt.subplot(3, num_images, num_images + i + 1)\n",
    "    plt.imshow(encoded_imgs[image_idx].reshape(16, 8))\n",
    "    plt.gray()\n",
    "    ax.get_xaxis().set_visible(False)\n",
    "    ax.get_yaxis().set_visible(False)\n",
    "\n",
    "    # plot reconstructed image\n",
    "    ax = plt.subplot(3, num_images, 2*num_images + i + 1)\n",
    "    plt.imshow(decoded_imgs[image_idx].reshape(28, 28))\n",
    "    plt.gray()\n",
    "    ax.get_xaxis().set_visible(False)\n",
    "    ax.get_yaxis().set_visible(False)\n",
    "plt.show()"
   ]
  },
  {
   "cell_type": "code",
   "execution_count": 41,
   "metadata": {},
   "outputs": [
    {
     "name": "stdout",
     "output_type": "stream",
     "text": [
      "(60000, 128) (10000, 128)\n"
     ]
    }
   ],
   "source": [
    "#Now perform dimension reduction\n",
    "\n",
    "X_train_dr=encoder.predict(x_train)\n",
    "X_test_dr=encoder.predict(x_test)\n",
    "\n",
    "print(X_train_dr.shape,X_test_dr.shape)\n",
    "\n"
   ]
  },
  {
   "cell_type": "code",
   "execution_count": 42,
   "metadata": {},
   "outputs": [
    {
     "name": "stdout",
     "output_type": "stream",
     "text": [
      "Results of Kmeans with Convolution Autoencoder\n",
      "\n",
      "\n",
      "Confusion Matrix: \n",
      "\n",
      "[[ 32   2 227   0  21   6   5 112   0 595]\n",
      " [ 11   0  17   0 854   1   0 116   0   1]\n",
      " [612   0 347   0   1   5   0  27   0   8]\n",
      " [ 14   0  76   0 478   1   0 420   0  11]\n",
      " [644   0 151   0  14   4   2 185   0   0]\n",
      " [  0 509  14 217   0   0   0   0 260   0]\n",
      " [349   2 366   0   7  20   0 126   0 130]\n",
      " [  0 774   0 222   0   0   0   0   4   0]\n",
      " [ 49  43  49   3  16 405 403  31   0   1]\n",
      " [  1  31   1 490   0   1   0   2 474   0]]\n",
      "\n",
      "\n",
      "Accuracy using linear assignment :  0.4811\n",
      "\n",
      "\n",
      "Normalized Mutual Info Score :  0.5498753923977981\n",
      "\n",
      "\n",
      "Adjusted Mutual Info Score :  0.538695454886799\n"
     ]
    }
   ],
   "source": [
    "#Kmeans with Convolution Autoencoder\n",
    "\n",
    "from sklearn.cluster import KMeans\n",
    "\n",
    "kmeans = KMeans(n_clusters=10, random_state=0)\n",
    "\n",
    "model=kmeans.fit(X_train_dr)\n",
    "\n",
    "predicted_labels=model.predict(X_test_dr)\n",
    "\n",
    "\n",
    "from sklearn.metrics import confusion_matrix\n",
    "\n",
    "print ('Results of Kmeans with Convolution Autoencoder\\n\\n')\n",
    "\n",
    "print('Confusion Matrix: \\n')\n",
    "\n",
    "print(confusion_matrix(y_test,predicted_labels))\n",
    "\n",
    "acc(y_test,predicted_labels)"
   ]
  },
  {
   "cell_type": "code",
   "execution_count": 44,
   "metadata": {},
   "outputs": [
    {
     "name": "stdout",
     "output_type": "stream",
     "text": [
      "Results of Gaussian Mixture Model with Convolution Autoencoder\n",
      "\n",
      "\n",
      "Confusion Matrix: \n",
      "\n",
      "[[  0 107   3 172   0  10  37   0 671   0]\n",
      " [  0  83   0  36   0 880   1   0   0   0]\n",
      " [  0  21 709 260   0   0   5   0   5   0]\n",
      " [  0 611   5 104   0 259   4   0  17   0]\n",
      " [  0 165 658 176   0   0   1   0   0   0]\n",
      " [421   0   0   1   1   0   9 365   0 203]\n",
      " [  0  93 434 262   0   2  31   0 178   0]\n",
      " [697   0   0   0   5   0   1   5   0 292]\n",
      " [  3   2   0 134   0   0 859   1   0   1]\n",
      " [  5   0   0   1 555   0   2  44   0 393]]\n",
      "\n",
      "\n",
      "Accuracy using linear assignment :  0.5609\n",
      "\n",
      "\n",
      "Normalized Mutual Info Score :  0.6103893561517201\n",
      "\n",
      "\n",
      "Adjusted Mutual Info Score :  0.6010575572381676\n"
     ]
    }
   ],
   "source": [
    "#Gaussian Mixture Model for Convolution Autoencoder\n",
    "\n",
    "from sklearn.mixture import GaussianMixture \n",
    "\n",
    "gmm = GaussianMixture(n_components = 10) \n",
    "  \n",
    "gmm_model=gmm.fit(X_train_dr) \n",
    "  \n",
    "plabels = gmm_model.predict(X_test_dr) \n",
    "\n",
    "\n",
    "from sklearn.metrics import confusion_matrix\n",
    "\n",
    "print ('Results of Gaussian Mixture Model with Convolution Autoencoder\\n\\n')\n",
    "\n",
    "print('Confusion Matrix: \\n')\n",
    "\n",
    "print(confusion_matrix(y_test,plabels))\n",
    "\n",
    "acc(y_test,plabels)"
   ]
  }
 ],
 "metadata": {
  "kernelspec": {
   "display_name": "Python 3",
   "language": "python",
   "name": "python3"
  },
  "language_info": {
   "codemirror_mode": {
    "name": "ipython",
    "version": 3
   },
   "file_extension": ".py",
   "mimetype": "text/x-python",
   "name": "python",
   "nbconvert_exporter": "python",
   "pygments_lexer": "ipython3",
   "version": "3.7.3"
  }
 },
 "nbformat": 4,
 "nbformat_minor": 2
}
